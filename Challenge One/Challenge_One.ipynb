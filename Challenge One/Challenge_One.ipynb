{
 "cells": [
  {
   "cell_type": "markdown",
   "metadata": {},
   "source": [
    "## Challenge One - Working with arrays\n",
    "E. Thompson\n"
   ]
  },
  {
   "cell_type": "code",
   "execution_count": 3,
   "metadata": {},
   "outputs": [],
   "source": [
    "import numpy as np"
   ]
  },
  {
   "cell_type": "markdown",
   "metadata": {},
   "source": [
    "#### 1. Why doesn't the following code create a 2D array?"
   ]
  },
  {
   "cell_type": "code",
   "execution_count": 4,
   "metadata": {},
   "outputs": [],
   "source": [
    "# np.array((1, 0, 0), (0, 1, 0), (0, 0, 1, dtype = float)"
   ]
  },
  {
   "cell_type": "markdown",
   "metadata": {},
   "source": [
    "A. \n",
    "- The code has missing bracket after 1, before dtype. \n",
    "- array() only takes one list, so needs one list of lists within the parentheses. \n",
    "- The lists require square brackets."
   ]
  },
  {
   "cell_type": "code",
   "execution_count": 5,
   "metadata": {},
   "outputs": [
    {
     "name": "stdout",
     "output_type": "stream",
     "text": [
      "[[1. 0. 0.]\n",
      " [0. 1. 0.]\n",
      " [0. 0. 1.]]\n"
     ]
    }
   ],
   "source": [
    "answer = np.array([[1, 0, 0], [0, 1, 0], [0, 0, 1]], dtype = float)\n",
    "print(answer)"
   ]
  },
  {
   "cell_type": "markdown",
   "metadata": {},
   "source": [
    "#### 2. What is the difference between:"
   ]
  },
  {
   "cell_type": "code",
   "execution_count": 6,
   "metadata": {},
   "outputs": [
    {
     "name": "stdout",
     "output_type": "stream",
     "text": [
      "[0 0 0]\n",
      "[[0 0 0]]\n"
     ]
    }
   ],
   "source": [
    "a = np.array([0, 0, 0]) # A: This is a 1D array\n",
    "print(a)\n",
    "\n",
    "# and \n",
    "\n",
    "a = np.array([[0, 0, 0]]) # A: This is a 2D array, with only 1 row\n",
    "print(a)"
   ]
  },
  {
   "cell_type": "markdown",
   "metadata": {},
   "source": [
    "#### A 3 by 4 by 4 is created with:"
   ]
  },
  {
   "cell_type": "code",
   "execution_count": 7,
   "metadata": {},
   "outputs": [
    {
     "name": "stdout",
     "output_type": "stream",
     "text": [
      "[[[ 1.  2.  3.  4.]\n",
      "  [ 5.  6.  7.  8.]\n",
      "  [ 9. 10. 11. 12.]\n",
      "  [13. 14. 15. 16.]]\n",
      "\n",
      " [[17. 18. 19. 20.]\n",
      "  [21. 22. 23. 24.]\n",
      "  [25. 26. 27. 28.]\n",
      "  [29. 30. 31. 32.]]\n",
      "\n",
      " [[33. 34. 35. 36.]\n",
      "  [37. 38. 39. 40.]\n",
      "  [41. 42. 43. 44.]\n",
      "  [45. 46. 47. 48.]]]\n"
     ]
    }
   ],
   "source": [
    "arr = np.linspace(1, 48, 48).reshape(3, 4, 4)\n",
    "print(arr)"
   ]
  },
  {
   "cell_type": "markdown",
   "metadata": {},
   "source": [
    "#### 3. Index or slice to obtain the following: \n",
    "###### Hint: use flatten and reshape\n",
    "3.1 20.0\n",
    "###### Note: Where I have tried a solution with and without using flatten/reshape, I have given both."
   ]
  },
  {
   "cell_type": "code",
   "execution_count": 8,
   "metadata": {},
   "outputs": [
    {
     "name": "stdout",
     "output_type": "stream",
     "text": [
      "20.0\n",
      "\n",
      " 20.0\n"
     ]
    }
   ],
   "source": [
    "answer = arr.flatten()[19]\n",
    "print(answer)\n",
    "\n",
    "# or...\n",
    "\n",
    "answer = arr[1, 0, 3]\n",
    "print(\"\\n\", answer)"
   ]
  },
  {
   "cell_type": "markdown",
   "metadata": {},
   "source": [
    "3.2  [9. 10. 11. 12.]"
   ]
  },
  {
   "cell_type": "code",
   "execution_count": 9,
   "metadata": {},
   "outputs": [
    {
     "name": "stdout",
     "output_type": "stream",
     "text": [
      "[ 9. 10. 11. 12.]\n"
     ]
    }
   ],
   "source": [
    "answer = arr[0, 2]\n",
    "print(answer)"
   ]
  },
  {
   "cell_type": "markdown",
   "metadata": {},
   "source": [
    "3.3  [[33. 34. 35. 36.] [37. 38. 39. 40.] [41. 42. 43. 44.] [45. 46. 47. 48.]]"
   ]
  },
  {
   "cell_type": "code",
   "execution_count": 10,
   "metadata": {},
   "outputs": [
    {
     "name": "stdout",
     "output_type": "stream",
     "text": [
      "[[33. 34. 35. 36.]\n",
      " [37. 38. 39. 40.]\n",
      " [41. 42. 43. 44.]\n",
      " [45. 46. 47. 48.]]\n"
     ]
    }
   ],
   "source": [
    "answer = arr[2]\n",
    "print(answer)"
   ]
  },
  {
   "cell_type": "markdown",
   "metadata": {},
   "source": [
    "3.4  [[5. 6.] [21. 22.] [37. 38.]]"
   ]
  },
  {
   "cell_type": "code",
   "execution_count": 11,
   "metadata": {},
   "outputs": [
    {
     "name": "stdout",
     "output_type": "stream",
     "text": [
      "[[ 5.  6.]\n",
      " [21. 22.]\n",
      " [37. 38.]]\n",
      "\n",
      " [[ 5.  6.]\n",
      " [21. 22.]\n",
      " [37. 38.]]\n"
     ]
    }
   ],
   "source": [
    "answer = arr[:,1,0:2]\n",
    "print(answer)\n",
    "\n",
    "# or...\n",
    "\n",
    "answer = arr.reshape(24, 2)[2::8]\n",
    "print(\"\\n\", answer)"
   ]
  },
  {
   "cell_type": "markdown",
   "metadata": {},
   "source": [
    "3.5  [[36. 35.] [40. 39.] [44. 43.] [48. 47.]]"
   ]
  },
  {
   "cell_type": "code",
   "execution_count": 12,
   "metadata": {},
   "outputs": [
    {
     "name": "stdout",
     "output_type": "stream",
     "text": [
      "[[36. 35.]\n",
      " [40. 39.]\n",
      " [44. 43.]\n",
      " [48. 47.]]\n",
      "\n",
      " [[36. 35.]\n",
      " [40. 39.]\n",
      " [44. 43.]\n",
      " [48. 47.]]\n"
     ]
    }
   ],
   "source": [
    "answer = arr.flatten()[::-1].reshape(24, 2)[6::-2]\n",
    "print(answer)\n",
    "\n",
    "# or...\n",
    "\n",
    "answer = arr[2, 0:4, :1:-1]\n",
    "print(\"\\n\", answer)"
   ]
  },
  {
   "cell_type": "markdown",
   "metadata": {},
   "source": [
    "3.6  [[13. 9. 5. 1] [29. 25. 21. 17.] [45. 41. 37. 33.]]"
   ]
  },
  {
   "cell_type": "code",
   "execution_count": 13,
   "metadata": {},
   "outputs": [
    {
     "name": "stdout",
     "output_type": "stream",
     "text": [
      "\n",
      " [[13.  9.  5.  1.]\n",
      " [29. 25. 21. 17.]\n",
      " [45. 41. 37. 33.]]\n"
     ]
    }
   ],
   "source": [
    "answer = arr[:, ::-1, 0]\n",
    "print(\"\\n\", answer)"
   ]
  },
  {
   "cell_type": "markdown",
   "metadata": {},
   "source": [
    "3.7  [[1. 4.] [45. 48]]"
   ]
  },
  {
   "cell_type": "code",
   "execution_count": 33,
   "metadata": {},
   "outputs": [
    {
     "name": "stdout",
     "output_type": "stream",
     "text": [
      "[[ 1.  4.]\n",
      " [45. 48.]]\n",
      "\n",
      " [[ 1.  4.]\n",
      " [45. 48.]]\n"
     ]
    }
   ],
   "source": [
    "answer = arr[:,:,::3].reshape(12,2)[::11]\n",
    "print(answer)\n",
    "\n",
    "# or...\n",
    "\n",
    "answer = arr[:,:,[0,3]].reshape(12,2)[[0,11]]\n",
    "print(\"\\n\",answer)"
   ]
  },
  {
   "cell_type": "markdown",
   "metadata": {},
   "source": [
    "3.8  [[25. 26. 27. 28] [29. 30. 31. 32] [33. 34. 35. 36.] [37. 38. 39. 40]]"
   ]
  },
  {
   "cell_type": "code",
   "execution_count": 15,
   "metadata": {},
   "outputs": [
    {
     "name": "stdout",
     "output_type": "stream",
     "text": [
      "[[25. 26. 27. 28.]\n",
      " [29. 30. 31. 32.]\n",
      " [33. 34. 35. 36.]\n",
      " [37. 38. 39. 40.]]\n"
     ]
    }
   ],
   "source": [
    "answer = arr.reshape(12, 4)[6:10]\n",
    "print(answer)"
   ]
  }
 ],
 "metadata": {
  "kernelspec": {
   "display_name": "newenv",
   "language": "python",
   "name": "python3"
  },
  "language_info": {
   "codemirror_mode": {
    "name": "ipython",
    "version": 3
   },
   "file_extension": ".py",
   "mimetype": "text/x-python",
   "name": "python",
   "nbconvert_exporter": "python",
   "pygments_lexer": "ipython3",
   "version": "3.11.6"
  }
 },
 "nbformat": 4,
 "nbformat_minor": 2
}
